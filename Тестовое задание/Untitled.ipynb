{
 "cells": [
  {
   "cell_type": "code",
   "execution_count": 4,
   "id": "d5cbff77-dacf-4619-b21c-d24ad85ad9de",
   "metadata": {},
   "outputs": [
    {
     "name": "stderr",
     "output_type": "stream",
     "text": [
      "C:\\Users\\aayza\\AppData\\Local\\Temp\\ipykernel_17276\\2162555933.py:29: FutureWarning: Downcasting object dtype arrays on .fillna, .ffill, .bfill is deprecated and will change in a future version. Call result.infer_objects(copy=False) instead. To opt-in to the future behavior, set `pd.set_option('future.no_silent_downcasting', True)`\n",
      "  flats_data_with_renovation.ffill(inplace=True)\n"
     ]
    },
    {
     "name": "stdout",
     "output_type": "stream",
     "text": [
      "Метрики для модели с ремонтом:\n",
      "Средняя абсолютная ошибка: 23211.874\n",
      "Среднеквадратичная ошибка: 1155942051.828\n",
      "R^2 Score: 0.854\n",
      "OOB оценка качества модели: 0.829\n"
     ]
    }
   ],
   "source": [
    "import pandas as pd\n",
    "from sklearn.model_selection import train_test_split\n",
    "from sklearn.linear_model import LinearRegression\n",
    "from sklearn.metrics import mean_absolute_error, mean_squared_error, r2_score\n",
    "from sklearn.impute import SimpleImputer\n",
    "from sklearn.linear_model import Lasso\n",
    "from sklearn.linear_model import Ridge\n",
    "from sklearn.tree import DecisionTreeRegressor\n",
    "from sklearn.ensemble import RandomForestRegressor\n",
    "from sklearn.ensemble import GradientBoostingRegressor\n",
    "from sklearn.metrics import accuracy_score\n",
    "\n",
    "\n",
    "# Загрузка данных\n",
    "flats_data_without_renovation = pd.read_excel('flats.xlsx')\n",
    "flats_data_with_renovation = pd.read_excel(\"euro_renovation.xlsx\")\n",
    "\n",
    "# Проверка типов данных в столбцах и преобразование строковых значений в числовой формат\n",
    "target_column = '**price_sq:** Цена за квадратный метр.'\n",
    "if flats_data_without_renovation[target_column].dtype == 'object':\n",
    "    flats_data_without_renovation[target_column] = pd.to_numeric(flats_data_without_renovation[target_column], errors='coerce')\n",
    "    flats_data_with_renovation[target_column] = pd.to_numeric(flats_data_with_renovation[target_column], errors='coerce')\n",
    "\n",
    "# Удаление строк с отсутствующими значениями в целевой переменной\n",
    "flats_data_with_renovation.dropna(subset=[target_column], inplace=True)\n",
    "\n",
    "# Заполнение отсутствующих значений в остальных столбцах\n",
    "flats_data_without_renovation.ffill(inplace=True)\n",
    "flats_data_with_renovation.ffill(inplace=True)\n",
    "\n",
    "\n",
    "# Определение целевой переменной\n",
    "target_column = '**price_sq:** Цена за квадратный метр.'\n",
    "\n",
    "# Выбор признаков и целевой переменной\n",
    "X_with_renovation = flats_data_with_renovation.drop([target_column], axis=1)\n",
    "y_with_renovation = flats_data_with_renovation[target_column]\n",
    "\n",
    "# Создание дамми-переменных для категориальных признаков\n",
    "X_with_renovation_encoded = pd.get_dummies(X_with_renovation)\n",
    "\n",
    "# Разделение данных на обучающий и тестовый наборы\n",
    "X_train_encoded, X_test_encoded, y_train, y_test = train_test_split(X_with_renovation_encoded, y_with_renovation, test_size=0.2, random_state=42)\n",
    "\n",
    "# Создание объекта SimpleImputer и заполнение отсутствующих значений\n",
    "imputer = SimpleImputer(strategy='mean')\n",
    "imputer.fit(X_train_encoded)  # Обучение только на обучающем наборе\n",
    "\n",
    "# Преобразование данных\n",
    "X_train_encoded_imputed = imputer.transform(X_train_encoded)\n",
    "X_test_encoded_imputed = imputer.transform(X_test_encoded)\n",
    "\n",
    "\n",
    "# Обучение модели с евроремонтом на закодированных данных с заполнением отсутствующих значений\n",
    "model = RandomForestRegressor(n_estimators=100, oob_score=True, random_state=100)\n",
    "model.fit(X_train_encoded_imputed, y_train)\n",
    "\n",
    "\n",
    "\n",
    "\n",
    "# Оценка модели\n",
    "y_pred = model.predict(X_test_encoded_imputed)\n",
    "mae = mean_absolute_error(y_test, y_pred)\n",
    "mse = mean_squared_error(y_test, y_pred)\n",
    "r2 = r2_score(y_test, y_pred)\n",
    "\n",
    "print(\"Метрики для модели с ремонтом:\")\n",
    "print(\"Средняя абсолютная ошибка:\", round(mae,3))\n",
    "print(\"Среднеквадратичная ошибка:\", round(mse,3))\n",
    "print(\"R^2 Score:\", round(r2,3))\n",
    "\n",
    "\n",
    "# Прогнозирование на данных без евроремонта\n",
    "flats_data_without_renovation_features = flats_data_without_renovation.drop([target_column], axis=1)\n",
    "flats_data_without_renovation_features_encoded = pd.get_dummies(flats_data_without_renovation_features)\n",
    "\n",
    "# Убедимся, что только известные признаки используются\n",
    "missing_features = set(X_train_encoded.columns) - set(flats_data_without_renovation_features_encoded.columns)\n",
    "if missing_features:\n",
    "    flats_data_without_renovation_features_encoded = flats_data_without_renovation_features_encoded.reindex(columns=X_train_encoded.columns, fill_value=0)\n",
    "\n",
    "flats_data_without_renovation_features_encoded_imputed = imputer.transform(flats_data_without_renovation_features_encoded)\n",
    "predicted_prices_without_renovation = model.predict(flats_data_without_renovation_features_encoded_imputed)\n",
    "\n",
    "# Визуализация результатов и дальнейшие шаги (по вашему выбору)\n"
   ]
  },
  {
   "cell_type": "code",
   "execution_count": null,
   "id": "8da5fa6e-4da3-4abf-8c6f-deae10876b6c",
   "metadata": {},
   "outputs": [],
   "source": []
  },
  {
   "cell_type": "code",
   "execution_count": null,
   "id": "c6fdec15-f688-477f-bb8c-ef899557f9b2",
   "metadata": {},
   "outputs": [],
   "source": []
  }
 ],
 "metadata": {
  "kernelspec": {
   "display_name": "Python 3 (ipykernel)",
   "language": "python",
   "name": "python3"
  },
  "language_info": {
   "codemirror_mode": {
    "name": "ipython",
    "version": 3
   },
   "file_extension": ".py",
   "mimetype": "text/x-python",
   "name": "python",
   "nbconvert_exporter": "python",
   "pygments_lexer": "ipython3",
   "version": "3.12.1"
  }
 },
 "nbformat": 4,
 "nbformat_minor": 5
}
